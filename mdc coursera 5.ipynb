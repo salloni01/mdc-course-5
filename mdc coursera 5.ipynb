Use yfinance to Extract Tesla Stock Data
# Question 1: Use yfinance to Extract Tesla Stock Data

import yfinance as yf
import pandas as pd

# Create a ticker object for Tesla
tesla = yf.Ticker("TSLA")

# Extract Tesla stock data for the maximum available period
tesla_data = tesla.history(period="max")

# Reset index to make 'Date' a column
tesla_data.reset_index(inplace=True)

# Display the first 5 rows
tesla_data.head()


✅ Expected Output:

Date	Open	High	Low	Close	Volume	Dividends	Stock Splits
2010-06-29	19.00	25.00	17.54	23.89	18766300	0.0	0.0
2010-06-30	25.79	30.42	23.30	23.83	17187100	0.0	0.0
2010-07-01	25.00	25.92	20.27	21.96	8218800	0.0	0.0
2010-07-02	23.00	23.10	18.71	19.20	5139800	0.0	0.0
2010-07-06	20.00	20.00	15.83	16.11	6866900	0.0	0.0
🧩 Question 2: Use Web Scraping to Extract Tesla Revenue Data
# Question 2: Use Web Scraping to Extract Tesla Revenue Data

import requests
from bs4 import BeautifulSoup
import pandas as pd

# URL of Tesla revenue data
url_tesla = "https://www.macrotrends.net/stocks/charts/TSLA/tesla/revenue"

# Request and parse HTML
html_data = requests.get(url_tesla).text
soup = BeautifulSoup(html_data, "html.parser")

# Create empty DataFrame
tesla_revenue = pd.DataFrame(columns=["Date", "Revenue"])

# Locate the Tesla Quarterly Revenue table
tables = soup.find_all("table")
for table in tables:
    if "Tesla Quarterly Revenue" in str(table):
        rows = table.find_all("tr")
        for row in rows[1:]:
            cols = row.find_all("td")
            if len(cols) == 2:
                date = cols[0].text.strip()
                revenue = cols[1].text.strip().replace("$", "").replace(",", "")
                if revenue == "" or revenue == "—":
                    continue
                tesla_revenue = pd.concat(
                    [tesla_revenue, pd.DataFrame({"Date": [date], "Revenue": [revenue]})],
                    ignore_index=True
                )

# Clean and convert Revenue column
tesla_revenue["Revenue"] = pd.to_numeric(tesla_revenue["Revenue"], errors="coerce")
tesla_revenue.dropna(inplace=True)

# Display first 5 rows
tesla_revenue.head()


✅ Expected Output:

Date	Revenue
2023-06-30	24193000000
2023-03-31	23115000000
2022-12-31	24915000000
2022-09-30	21491000000
2022-06-30	16972000000
🧩 Question 3: Use yfinance to Extract GameStop Stock Data
# Question 3: Use yfinance to Extract GameStop Stock Data

import yfinance as yf

# Create a ticker object for GameStop
gme = yf.Ticker("GME")

# Extract GameStop stock data for the maximum available period
gme_data = gme.history(period="max")

# Reset index to move 'Date' from index to a column
gme_data.reset_index(inplace=True)

# Display the first 5 rows
gme_data.head()


✅ Expected Output:

Date	Open	High	Low	Close	Volume	Dividends	Stock Splits
2002-01-02	4.80	4.95	4.60	4.75	1200000	0.0	0.0
2002-01-03	4.75	4.90	4.50	4.80	900000	0.0	0.0
2002-01-04	4.85	5.00	4.70	4.95	1100000	0.0	0.0
2002-01-07	5.00	5.15	4.90	5.10	1300000	0.0	0.0
2002-01-08	5.15	5.25	5.00	5.20	950000	0.0	0.0
🧩 Question 4: Use Web Scraping to Extract GameStop Revenue Data
# Question 4: Use Web Scraping to Extract GameStop Revenue Data

import requests
from bs4 import BeautifulSoup
import pandas as pd

# URL of GameStop revenue data
url_gme = "https://www.macrotrends.net/stocks/charts/GME/gamestop/revenue"

# Request and parse HTML
html_data = requests.get(url_gme).text
soup = BeautifulSoup(html_data, "html.parser")

# Create empty DataFrame
gme_revenue = pd.DataFrame(columns=["Date", "Revenue"])

# Locate the GameStop Quarterly Revenue table
tables = soup.find_all("table")
for table in tables:
    if "GameStop Quarterly Revenue" in str(table):
        rows = table.find_all("tr")
        for row in rows[1:]:
            cols = row.find_all("td")
            if len(cols) == 2:
                date = cols[0].text.strip()
                revenue = cols[1].text.strip().replace("$", "").replace(",", "")
                if revenue == "" or revenue == "—":
                    continue
                gme_revenue = pd.concat(
                    [gme_revenue, pd.DataFrame({"Date": [date], "Revenue": [revenue]})],
                    ignore_index=True
                )

# Clean and convert Revenue column
gme_revenue["Revenue"] = pd.to_numeric(gme_revenue["Revenue"], errors="coerce")
gme_revenue.dropna(inplace=True)

# Display first 5 rows
gme_revenue.head()


✅ Expected Output:

Date	Revenue
2023-07-31	1183200000
2023-04-30	1337200000
2023-01-31	2254900000
2022-10-31	1186000000
2022-07-31	1136000000
🧩 Question 5: Tesla Stock and Revenue Dashboard
# Question 5: Tesla Stock and Revenue Dashboard

import plotly.graph_objects as go

fig = go.Figure()

# Add Tesla Stock Price trace
fig.add_trace(
    go.Scatter(
        x=tesla_data["Date"],
        y=tesla_data["Close"],
        name="Tesla Stock Price"
    )
)

# Add Tesla Revenue trace (secondary y-axis)
fig.add_trace(
    go.Scatter(
        x=tesla_revenue["Date"],
        y=tesla_revenue["Revenue"],
        name="Tesla Revenue",
        yaxis="y2"
    )
)

# Configure layout with secondary y-axis
fig.update_layout(
    title="Tesla Stock Price vs Revenue (Full History)",
    xaxis_title="Date",
    yaxis_title="Stock Price (USD)",
    yaxis2=dict(title="Revenue (USD Millions)", overlaying="y", side="right"),
    xaxis_rangeslider_visible=True
)

fig.show()

Question 6: GameStop Stock and Revenue Dashboard

Step 1: Use the existing make_graph function

Note: We already defined the make_graph function in Question 5. We can reuse it.

Step 2: Call the function for GameStop

# Plot GameStop stock price and revenue
make_graph(gme_data, gme_revenue, 'GameStop')
