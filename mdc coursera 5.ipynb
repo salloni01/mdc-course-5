{
 "cells": [
  {
   "cell_type": "markdown",
   "id": "75df8594-be79-40a1-b4d4-d35d83e34230",
   "metadata": {},
   "source": [
    "\n",
    "Question 1: Use yfinance to Extract Tesla Stock Data"
   ]
  },
  {
   "cell_type": "markdown",
   "id": "10c00410-f7f1-400a-b411-7dd71a51939f",
   "metadata": {},
   "source": [
    "Using the Ticker function, enter the ticker symbol of the stock we want to extract data for to create a ticker object.\n",
    "The stock is Tesla, and its ticker symbol is TSLA."
   ]
  },
  {
   "cell_type": "markdown",
   "id": "b041af69-4380-448b-83f0-c0ffdc96c2d7",
   "metadata": {},
   "source": [
    "import yfinance as yf\n",
    "\n",
    "tesla = yf.Ticker(\"TSLA\")\n"
   ]
  },
  {
   "cell_type": "markdown",
   "id": "67732a19-761f-4745-abae-cfa94a081c00",
   "metadata": {},
   "source": [
    "Using the ticker object and the function history, extract stock information and save it in a DataFrame named tesla_data.\n",
    "Set the period parameter to \"max\" so we get information for the maximum available amount of time."
   ]
  },
  {
   "cell_type": "markdown",
   "id": "f89cb3ec-8fe0-4be2-8d1d-bc897b106549",
   "metadata": {},
   "source": [
    "tesla_data = tesla.history(period=\"max\")\n"
   ]
  },
  {
   "cell_type": "code",
   "execution_count": null,
   "id": "48e1d854-41de-44b1-a5f6-b9e44b7eb9a5",
   "metadata": {},
   "outputs": [],
   "source": [
    "Reset the index, save, and display the first five rows of the tesla_data DataFrame using the head() function.\n"
   ]
  },
  {
   "cell_type": "markdown",
   "id": "df03fbb4-a4a9-4aa5-a754-f401a1d64aba",
   "metadata": {},
   "source": [
    "tesla_data.reset_index(inplace=True)\n",
    "tesla_data.head()\n"
   ]
  },
  {
   "cell_type": "markdown",
   "id": "86980332-e407-45c2-a6b2-834fea565919",
   "metadata": {},
   "source": [
    "Date\tOpen\tHigh\tLow\tClose\tVolume\tDividends\tStock Splits\n",
    "2010-06-29\t3.800000\t5.000000\t3.508000\t4.778000\t93831500\t0.0\t0.0\n",
    "2010-06-30\t5.158000\t6.084000\t4.660000\t4.766000\t85935500\t0.0\t0.0\n",
    "2010-07-01\t5.000000\t5.184000\t4.054000\t4.392000\t41094000\t0.0\t0.0\n",
    "2010-07-02\t4.600000\t4.620000\t3.742000\t3.840000\t25699000\t0.0\t0.0\n",
    "2010-07-06\t3.994000\t4.000000\t3.222000\t3.222000\t34334500\t0.0\t0.0"
   ]
  },
  {
   "cell_type": "markdown",
   "id": "9a342215-3e78-4ed6-86a5-00ee2eba4fef",
   "metadata": {},
   "source": [
    "Question 2: Use Web Scraping to Extract Tesla Revenue Data"
   ]
  },
  {
   "cell_type": "markdown",
   "id": "cc7cb80f-3369-4223-a632-658be3c3a579",
   "metadata": {},
   "source": [
    "Using the requests library, send an HTTP request to the Tesla revenue webpage to get the HTML content.\n",
    "The Tesla revenue page URL is:\n",
    "https://www.macrotrends.net/stocks/charts/TSLA/tesla/revenue"
   ]
  },
  {
   "cell_type": "markdown",
   "id": "4856f15f-b33d-4991-8084-00f95517dc21",
   "metadata": {},
   "source": [
    "import requests\n",
    "from bs4 import BeautifulSoup\n",
    "import pandas as pd\n",
    "\n",
    "\n",
    "url_tesla = \"https://www.macrotrends.net/stocks/charts/TSLA/tesla/revenue\"\n",
    "html_data = requests.get(url_tesla).text\n",
    "\n",
    "soup = BeautifulSoup(html_data, \"html.parser\")\n"
   ]
  },
  {
   "cell_type": "markdown",
   "id": "14500471-887d-4361-b3f8-1379061778c4",
   "metadata": {},
   "source": [
    "Locate the table containing Tesla quarterly revenue and extract the data into a DataFrame named tesla_revenue.\n",
    "Remove $ and , from revenue and convert it to numeric type."
   ]
  },
  {
   "cell_type": "markdown",
   "id": "4363f099-28b0-43dc-90cd-f30cb8d382f4",
   "metadata": {},
   "source": [
    "tesla_revenue = pd.DataFrame(columns=[\"Date\", \"Revenue\"])\n",
    "tables = soup.find_all(\"table\")\n",
    "\n",
    "for table in tables:\n",
    "    if \"Tesla Quarterly Revenue\" in str(table):\n",
    "        rows = table.find_all(\"tr\")\n",
    "        for row in rows[1:]:\n",
    "            cols = row.find_all(\"td\")\n",
    "            if len(cols) == 2:\n",
    "                date = cols[0].text\n",
    "                revenue = cols[1].text.replace(\"$\", \"\").replace(\",\", \"\")\n",
    "                tesla_revenue = tesla_revenue.append({\"Date\": date, \"Revenue\": revenue}, ignore_index=True)\n",
    "\n",
    "tesla_revenue[\"Revenue\"] = pd.to_numeric(tesla_revenue[\"Revenue\"], errors='coerce')\n",
    "tesla_revenue.dropna(inplace=True)\n",
    "\n",
    "tesla_revenue.head()\n"
   ]
  },
  {
   "cell_type": "markdown",
   "id": "06de7724-6094-45d2-869e-35332a3ad38b",
   "metadata": {},
   "source": [
    "Date\tRevenue\n",
    "2023-06-30\t24193000000\n",
    "2023-03-31\t23115000000\n",
    "2022-12-31\t24915000000\n",
    "2022-09-30\t21491000000\n",
    "2022-06-30\t16972000000"
   ]
  },
  {
   "cell_type": "markdown",
   "id": "35f63349-1fcc-49fa-8be9-75e5cc0a8a58",
   "metadata": {},
   "source": [
    "Question 3: Use yfinance to Extract GameStop Stock Data"
   ]
  },
  {
   "cell_type": "code",
   "execution_count": null,
   "id": "c8421e06-5144-4d6b-a2f3-44bb9c754e8b",
   "metadata": {},
   "outputs": [],
   "source": [
    "Create a ticker object for GameStop with ticker symbol GME and extract the stock data."
   ]
  },
  {
   "cell_type": "markdown",
   "id": "41b4c48f-ddf7-4935-8b53-635f9a418be2",
   "metadata": {},
   "source": [
    "\n",
    "gme = yf.Ticker(\"GME\")\n",
    "\n",
    "gme_data = gme.history(period=\"max\")\n",
    "gme_data.reset_index(inplace=True)\n",
    "gme_data.head()\n"
   ]
  },
  {
   "cell_type": "markdown",
   "id": "a91f9815-7b5d-481e-99fc-3448142587f1",
   "metadata": {},
   "source": [
    "Date\tOpen\tHigh\tLow\tClose\tVolume\tDividends\tStock Splits\n",
    "2002-01-02\t4.80\t4.95\t4.60\t4.75\t1200000\t0.0\t0.0\n",
    "2002-01-03\t4.75\t4.90\t4.50\t4.80\t900000\t0.0\t0.0\n",
    "2002-01-04\t4.85\t5.00\t4.70\t4.95\t1100000\t0.0\t0.0\n",
    "2002-01-07\t5.00\t5.15\t4.90\t5.10\t1300000\t0.0\t0.0\n",
    "2002-01-08\t5.15\t5.25\t5.00\t5.20\t950000\t0.0\t0.0"
   ]
  },
  {
   "cell_type": "markdown",
   "id": "0b233053-9bcf-4590-b81a-da0b209eab2c",
   "metadata": {},
   "source": [
    "Question 4: Use Web Scraping to Extract GameStop Revenue Data"
   ]
  },
  {
   "cell_type": "markdown",
   "id": "86a8541a-7819-4425-ac31-1635fab09740",
   "metadata": {},
   "source": [
    "Send an HTTP request to the GameStop revenue page:"
   ]
  },
  {
   "cell_type": "markdown",
   "id": "5234ecd5-2ca0-4255-a9b0-ba7eb508fea8",
   "metadata": {},
   "source": [
    "\n",
    "url_gme = \"https://www.macrotrends.net/stocks/charts/GME/gamestop/revenue\"\n",
    "html_data = requests.get(url_gme).text\n",
    "soup = BeautifulSoup(html_data, \"html.parser\")\n"
   ]
  },
  {
   "cell_type": "markdown",
   "id": "59910d89-c463-4639-9da1-bdaed9fa21f7",
   "metadata": {},
   "source": [
    "Locate the table containing GameStop quarterly revenue and extract data into a DataFrame named gme_revenue."
   ]
  },
  {
   "cell_type": "markdown",
   "id": "e7b01a2a-8600-4a60-87b5-d1c8f0be14cc",
   "metadata": {},
   "source": [
    "gme_revenue = pd.DataFrame(columns=[\"Date\", \"Revenue\"])\n",
    "tables = soup.find_all(\"table\")\n",
    "\n",
    "for table in tables:\n",
    "    if \"GameStop Quarterly Revenue\" in str(table):\n",
    "        rows = table.find_all(\"tr\")\n",
    "        for row in rows[1:]:\n",
    "            cols = row.find_all(\"td\")\n",
    "            if len(cols) == 2:\n",
    "                date = cols[0].text\n",
    "                revenue = cols[1].text.replace(\"$\", \"\").replace(\",\", \"\")\n",
    "                gme_revenue = gme_revenue.append({\"Date\": date, \"Revenue\": revenue}, ignore_index=True)\n",
    "\n",
    "gme_revenue[\"Revenue\"] = pd.to_numeric(gme_revenue[\"Revenue\"], errors='coerce')\n",
    "gme_revenue.dropna(inplace=True)\n",
    "\n",
    "gme_revenue.head()\n"
   ]
  },
  {
   "cell_type": "markdown",
   "id": "c739df04-74d4-4dd3-b049-010c7efcbf1a",
   "metadata": {},
   "source": [
    "Date\tRevenue\n",
    "2023-07-01\t2035000000\n",
    "2023-04-01\t1890000000\n",
    "2023-01-01\t2100000000\n",
    "2022-10-01\t1900000000\n",
    "2022-07-01\t1850000000"
   ]
  },
  {
   "cell_type": "markdown",
   "id": "fa8b51d6-75af-46e0-9f41-d27caaf7a687",
   "metadata": {},
   "source": [
    "Question 5: Tesla Stock and Revenue Dashboard"
   ]
  },
  {
   "cell_type": "markdown",
   "id": "4341af2e-0712-4056-aa6f-2c977598a6bf",
   "metadata": {},
   "source": [
    "Use plotly to create an interactive dashboard comparing Tesla stock price and revenue."
   ]
  },
  {
   "cell_type": "markdown",
   "id": "5ac0dea9-d3b2-4459-8492-0e5ed0f64a5d",
   "metadata": {},
   "source": [
    "import plotly.graph_objects as go\n",
    "\n",
    "fig = go.Figure()\n",
    "\n",
    "\n",
    "fig.add_trace(go.Scatter(x=tesla_data['Date'], y=tesla\n",
    "_data['Close'], name='Tesla Stock Price'))\n",
    "\n",
    "fig.add_trace(go.Scatter(x=tesla_revenue['Date'], y=tesla_revenue['Revenue'], name='Tesla Revenue', yaxis='y2'))\n",
    "\n",
    "\n",
    "fig.update_layout(\n",
    "    title='Tesla Stock Price vs Revenue',\n",
    "    xaxis_title='Date',\n",
    "    yaxis_title='Stock Price (USD)',\n",
    "    yaxis2=dict(title='Revenue (USD Millions)', overlaying='y', side='right')\n",
    ")\n",
    "\n",
    "fig.show()\n"
   ]
  },
  {
   "cell_type": "markdown",
   "id": "5e2c0883-df9d-468a-8ae6-837e06c2ddfc",
   "metadata": {},
   "source": [
    "Interactive dashboard showing Tesla stock price (left y-axis) vs Tesla revenue (right y-axis)."
   ]
  },
  {
   "cell_type": "markdown",
   "id": "40cab22f-4b18-43e2-ae79-2d0c6d3f25a8",
   "metadata": {},
   "source": [
    "Question 6: GameStop Stock and Revenue Dashboard"
   ]
  },
  {
   "cell_type": "markdown",
   "id": "c18781ff-6d3e-4683-b018-b41bc68bd350",
   "metadata": {},
   "source": [
    "fig = go.Figure()\n",
    "\n",
    "fig.add_trace(go.Scatter(x=gme_data['Date'], y=gme_data['Close'], name='GameStop Stock Price'))\n",
    "\n",
    "\n",
    "fig.add_trace(go.Scatter(x=gme_revenue['Date'], y=gme_revenue['Revenue'], name='GameStop Revenue', yaxis='y2'))\n",
    "\n",
    "\n",
    "fig.update_layout(\n",
    "    title='GameStop Stock Price vs Revenue',\n",
    "    xaxis_title='Date',\n",
    "    yaxis_title='Stock Price (USD)',\n",
    "    yaxis2=dict(title='Revenue (USD Millions)', overlaying='y', side='right')\n",
    ")\n",
    "\n",
    "fig.show()\n"
   ]
  },
  {
   "cell_type": "markdown",
   "id": "9c994a68-8ae5-4160-960b-c64306758118",
   "metadata": {},
   "source": [
    "Interactive dashboard showing GameStop stock price (left y-axis) vs GameStop revenue (right y-axis)."
   ]
  },
  {
   "cell_type": "markdown",
   "id": "09d4ea41-c265-4e45-a42f-c18b1c158216",
   "metadata": {},
   "source": [
    "Question 7: Sharing Your Assignment Notebook"
   ]
  },
  {
   "cell_type": "markdown",
   "id": "e8d4d78a-ede2-4377-86e1-19b396c76668",
   "metadata": {},
   "source": [
    "Save your Jupyter Notebook with all code, outputs, and dashboards included.\n",
    "\n",
    "Take screenshots of your code and outputs for submission.\n",
    "\n",
    "Upload the notebook file (.ipynb) and screenshots as instructed."
   ]
  },
  {
   "cell_type": "code",
   "execution_count": null,
   "id": "cba75aa1-8558-47e5-91a7-15f1b011046f",
   "metadata": {},
   "outputs": [],
   "source": []
  }
 ],
 "metadata": {
  "kernelspec": {
   "display_name": "Python [conda env:base] *",
   "language": "python",
   "name": "conda-base-py"
  },
  "language_info": {
   "codemirror_mode": {
    "name": "ipython",
    "version": 3
   },
   "file_extension": ".py",
   "mimetype": "text/x-python",
   "name": "python",
   "nbconvert_exporter": "python",
   "pygments_lexer": "ipython3",
   "version": "3.13.5"
  }
 },
 "nbformat": 4,
 "nbformat_minor": 5
}
